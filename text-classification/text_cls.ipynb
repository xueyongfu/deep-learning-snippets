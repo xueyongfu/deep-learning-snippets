{
 "cells": [
  {
   "cell_type": "code",
   "execution_count": null,
   "id": "3ab7ad40-e3f0-4a45-9373-f953a79a48f2",
   "metadata": {},
   "outputs": [],
   "source": [
    "import pandas as pd\n",
    "import re\n",
    "import matplotlib.pyplot as plt\n",
    "import numpy as np\n",
    "from sklearn.model_selection import train_test_split"
   ]
  },
  {
   "cell_type": "code",
   "execution_count": null,
   "id": "2c73a5cc-96f4-4328-84b4-df40620182b4",
   "metadata": {},
   "outputs": [],
   "source": [
    "df = pd.read_csv('a.csv')\n",
    "\n",
    "# 多列合并成一个标签\n",
    "df.fillna(value='未知', inplace=True)\n",
    "df['label'] = df['是否合理'].str.cat(\n",
    "    [df['解决情况'], df['具体理由/未解决细分'], df['具体理由']], sep='-')\n",
    "\n",
    "# 生成标签的统计数据\n",
    "df['label'].value_counts().to_csv('train_data/dis.csv')\n",
    "\n",
    "# 数据清洗\n",
    "def clean(line):\n",
    "    return re.sub('\\s', '', str(line)[:512])\n",
    "df['反馈结果'] = df['反馈结果'].apply(clean)\n",
    "\n",
    "\n",
    "# 查看长度\n",
    "plt.figure()\n",
    "df['反馈结果'].apply(len).hist(bins=100)\n",
    "plt.show()"
   ]
  },
  {
   "cell_type": "code",
   "execution_count": null,
   "id": "46cc8360-73b7-46de-a369-2a8a9eebe2f5",
   "metadata": {},
   "outputs": [],
   "source": [
    "# 训练集,验证集\n",
    "train, dev = train_test_split(df, test_size=0.1, shuffle=True, random_state=42)\n",
    "\n",
    "\n",
    "# 数据采样\n",
    "train_list = []\n",
    "for name, sd in train.groupby('label'):\n",
    "    if len(sd) < 30:\n",
    "        train_list.append(\n",
    "            pd.concat([sd, sd.sample(n=30 - len(sd), replace=True)]))\n",
    "    elif len(sd) < 50:\n",
    "        train_list.append(\n",
    "            pd.concat([sd, sd.sample(n=50 - len(sd), replace=True)]))\n",
    "    else:\n",
    "        train_list.append(sd)\n",
    "new_train = pd.concat(train_list)"
   ]
  },
  {
   "cell_type": "code",
   "execution_count": null,
   "id": "9d55e434-82ff-4641-8086-a761ba7f8a47",
   "metadata": {},
   "outputs": [],
   "source": [
    "# 生成标签的统计数据\n",
    "new_train.groupby('label').describe().to_csv('train_data/dis2.csv')\n",
    "\n",
    "new_train.to_csv('train_data/train.tsv', sep='\\t', index=False)\n",
    "dev.to_csv('train_data/dev.tsv', sep='\\t', index=False)\n",
    "df.sample(frac=1).to_csv('train_data/train_all.tsv', sep='\\t', index=False)"
   ]
  },
  {
   "cell_type": "code",
   "execution_count": null,
   "id": "6934148b-0ed7-4ec4-b96a-734911720b0f",
   "metadata": {},
   "outputs": [],
   "source": [
    "# 权重调整\n",
    "train['label'].value_counts()\n",
    "weights = 1 / (train['label'].value_counts() / (train['label'].value_counts().max()))\n",
    "print(weights.to_list())\n",
    "print(weights.index)"
   ]
  },
  {
   "cell_type": "code",
   "execution_count": null,
   "id": "dfc667dc-61b8-4091-a1cd-15e528df1948",
   "metadata": {},
   "outputs": [],
   "source": []
  },
  {
   "cell_type": "code",
   "execution_count": null,
   "id": "91fe60f2-111d-4fde-8c7d-5cc5f75cd137",
   "metadata": {},
   "outputs": [],
   "source": []
  }
 ],
 "metadata": {
  "kernelspec": {
   "display_name": "Python 3 (ipykernel)",
   "language": "python",
   "name": "python3"
  },
  "language_info": {
   "codemirror_mode": {
    "name": "ipython",
    "version": 3
   },
   "file_extension": ".py",
   "mimetype": "text/x-python",
   "name": "python",
   "nbconvert_exporter": "python",
   "pygments_lexer": "ipython3",
   "version": "3.7.11"
  }
 },
 "nbformat": 4,
 "nbformat_minor": 5
}
