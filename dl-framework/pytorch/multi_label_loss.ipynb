{
 "cells": [
  {
   "cell_type": "code",
   "execution_count": null,
   "id": "1c87a51c-b527-4985-b698-a3878a2ddf4b",
   "metadata": {},
   "outputs": [],
   "source": []
  },
  {
   "cell_type": "code",
   "execution_count": null,
   "id": "d266814e-0695-4a2c-bf48-a664f662b521",
   "metadata": {},
   "outputs": [],
   "source": [
    "import torch\n",
    "\n",
    "def multilabel_categorical_crossentropy(y_true, y_pred):\n",
    "        \"\"\"多标签分类的交叉熵\n",
    "        说明：y_true和y_pred的shape一致，y_true的元素非0即1，\n",
    "             1表示对应的类为目标类，0表示对应的类为非目标类。\n",
    "        警告：请保证y_pred的值域是全体实数，换言之一般情况下y_pred\n",
    "             不用加激活函数，尤其是不能加sigmoid或者softmax！预测\n",
    "             阶段则输出y_pred大于0的类。如有疑问，请仔细阅读并理解\n",
    "             本文。\n",
    "        \"\"\"\n",
    "        y_pred = (1 - 2 * y_true) * y_pred\n",
    "        y_pred_neg = y_pred - y_true * 1e12\n",
    "        y_pred_pos = y_pred - (1 - y_true) * 1e12\n",
    "        zeros = torch.zeros_like(y_pred[..., :1])\n",
    "        y_pred_neg = torch.cat([y_pred_neg, zeros], dim=-1)\n",
    "        y_pred_pos = torch.cat([y_pred_pos, zeros], dim=-1)\n",
    "        neg_loss = torch.logsumexp(y_pred_neg, dim=-1)\n",
    "        pos_loss = torch.logsumexp(y_pred_pos, dim=-1)\n",
    "        return neg_loss + pos_loss"
   ]
  }
 ],
 "metadata": {
  "kernelspec": {
   "display_name": "Python 3 (ipykernel)",
   "language": "python",
   "name": "python3"
  },
  "language_info": {
   "codemirror_mode": {
    "name": "ipython",
    "version": 3
   },
   "file_extension": ".py",
   "mimetype": "text/x-python",
   "name": "python",
   "nbconvert_exporter": "python",
   "pygments_lexer": "ipython3",
   "version": "3.7.11"
  }
 },
 "nbformat": 4,
 "nbformat_minor": 5
}
