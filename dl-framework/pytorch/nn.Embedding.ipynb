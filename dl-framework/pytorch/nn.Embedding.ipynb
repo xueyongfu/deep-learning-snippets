{
 "cells": [
  {
   "cell_type": "code",
   "execution_count": 1,
   "id": "111b003b",
   "metadata": {},
   "outputs": [],
   "source": [
    "import torch.nn as nn\n",
    "import torch"
   ]
  },
  {
   "cell_type": "code",
   "execution_count": 4,
   "id": "e920990c",
   "metadata": {},
   "outputs": [
    {
     "data": {
      "text/plain": [
       "tensor([[[-0.5386,  0.4623, -0.2602],\n",
       "         [ 0.8625,  1.0182, -1.2247],\n",
       "         [-1.4371, -0.7975, -0.0684],\n",
       "         [-1.7505, -1.1251,  0.3646]],\n",
       "\n",
       "        [[-1.4371, -0.7975, -0.0684],\n",
       "         [ 0.5315,  0.5203, -0.3134],\n",
       "         [ 0.8625,  1.0182, -1.2247],\n",
       "         [-1.0974, -0.0145,  0.4845]]], grad_fn=<EmbeddingBackward>)"
      ]
     },
     "execution_count": 4,
     "metadata": {},
     "output_type": "execute_result"
    }
   ],
   "source": [
    "embedding = nn.Embedding(10, 3)\n",
    "\n",
    "# a batch of 2 samples of 4 indices each\n",
    "input = torch.LongTensor([[1,2,4,5],[4,3,2,9]])\n",
    "embedding(input)"
   ]
  },
  {
   "cell_type": "code",
   "execution_count": 5,
   "id": "0fedd6dc",
   "metadata": {},
   "outputs": [
    {
     "data": {
      "text/plain": [
       "tensor([[[-1.0830,  0.2236,  0.8860],\n",
       "         [ 0.4657,  0.4878,  0.5590],\n",
       "         [-0.0152, -0.7465,  0.9950],\n",
       "         [-0.7042,  0.4227,  0.3879]],\n",
       "\n",
       "        [[-0.0152, -0.7465,  0.9950],\n",
       "         [-0.7233, -0.3816,  0.9273],\n",
       "         [ 0.4657,  0.4878,  0.5590],\n",
       "         [ 0.0000,  0.0000,  0.0000]]], grad_fn=<EmbeddingBackward>)"
      ]
     },
     "execution_count": 5,
     "metadata": {},
     "output_type": "execute_result"
    }
   ],
   "source": [
    "# example with padding_idx\n",
    "embedding = nn.Embedding(10, 3, padding_idx=9)\n",
    "# a batch of 2 samples of 4 indices each\n",
    "input = torch.LongTensor([[1,2,4,5],[4,3,2,9]])\n",
    "embedding(input)"
   ]
  },
  {
   "cell_type": "markdown",
   "id": "82ee7825",
   "metadata": {},
   "source": [
    "nn.Embedding指定padding_idx，则padding_idx lookup出来的向量就全是0"
   ]
  },
  {
   "cell_type": "code",
   "execution_count": 6,
   "id": "5fa25209",
   "metadata": {},
   "outputs": [
    {
     "data": {
      "text/plain": [
       "tensor([[-0.0426, -0.2230, -0.1859],\n",
       "        [ 0.2496,  0.2093, -0.2239],\n",
       "        [-0.0552, -0.1697, -0.2333],\n",
       "        [-0.1601, -0.0969,  0.0097],\n",
       "        [-0.2098,  0.0576,  0.1600],\n",
       "        [-0.0494,  0.0017,  0.1612],\n",
       "        [ 0.0685,  0.1009, -0.0825],\n",
       "        [ 0.2320, -0.1644,  0.1936],\n",
       "        [ 0.1880,  0.1833, -0.1776],\n",
       "        [ 0.2230, -0.1144, -0.2213]])"
      ]
     },
     "execution_count": 6,
     "metadata": {},
     "output_type": "execute_result"
    }
   ],
   "source": [
    "# embedding矩阵的向量初始化\n",
    "embedding.weight.data.uniform_(-0.25, 0.25)"
   ]
  },
  {
   "cell_type": "code",
   "execution_count": null,
   "id": "34745622",
   "metadata": {},
   "outputs": [],
   "source": []
  }
 ],
 "metadata": {
  "kernelspec": {
   "display_name": "Python 3 (ipykernel)",
   "language": "python",
   "name": "python3"
  },
  "language_info": {
   "codemirror_mode": {
    "name": "ipython",
    "version": 3
   },
   "file_extension": ".py",
   "mimetype": "text/x-python",
   "name": "python",
   "nbconvert_exporter": "python",
   "pygments_lexer": "ipython3",
   "version": "3.7.11"
  }
 },
 "nbformat": 4,
 "nbformat_minor": 5
}
