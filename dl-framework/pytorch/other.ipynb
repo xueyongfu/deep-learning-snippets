{
 "cells": [
  {
   "cell_type": "code",
   "execution_count": 1,
   "id": "f2c8e47c-d7d1-48f7-8dbc-fc485d11cefc",
   "metadata": {},
   "outputs": [],
   "source": [
    "# 计算模型参数量\n",
    "\n",
    "def get_parameter_number(model):\n",
    "    total_num = sum(p.numel() for p in model.parameters())\n",
    "    trainable_num = sum(p.numel() for p in model.parameters() if p.requires_grad)\n",
    "    return {\"Total\": total_num, \"Trainable\": trainable_num}"
   ]
  },
  {
   "cell_type": "code",
   "execution_count": null,
   "id": "d9d56835-b653-4744-8a55-2f5bdd1eb063",
   "metadata": {},
   "outputs": [],
   "source": []
  }
 ],
 "metadata": {
  "kernelspec": {
   "display_name": "Python 3 (ipykernel)",
   "language": "python",
   "name": "python3"
  },
  "language_info": {
   "codemirror_mode": {
    "name": "ipython",
    "version": 3
   },
   "file_extension": ".py",
   "mimetype": "text/x-python",
   "name": "python",
   "nbconvert_exporter": "python",
   "pygments_lexer": "ipython3",
   "version": "3.7.11"
  }
 },
 "nbformat": 4,
 "nbformat_minor": 5
}
