{
 "cells": [
  {
   "cell_type": "code",
   "execution_count": 2,
   "id": "04d90978-5a27-4f53-a214-ead43f5a3be2",
   "metadata": {},
   "outputs": [
    {
     "name": "stdout",
     "output_type": "stream",
     "text": [
      "原始数据分布\n"
     ]
    },
    {
     "data": {
      "text/plain": [
       "[(0, 64), (1, 262), (2, 4674)]"
      ]
     },
     "execution_count": 2,
     "metadata": {},
     "output_type": "execute_result"
    }
   ],
   "source": [
    "from sklearn.datasets import make_classification\n",
    "from collections import Counter\n",
    "\n",
    "X, y = make_classification(n_samples=5000, n_features=2, n_informative=2,\n",
    "                           n_redundant=0, n_repeated=0, n_classes=3,\n",
    "                           n_clusters_per_class=1,\n",
    "                           weights=[0.01, 0.05, 0.94],\n",
    "                           class_sep=0.8, random_state=0)\n",
    "print('原始数据分布')\n",
    "sorted(Counter(y).items())"
   ]
  },
  {
   "cell_type": "code",
   "execution_count": null,
   "id": "ceffccde-2c91-4628-bb64-c545fe043b5e",
   "metadata": {},
   "outputs": [],
   "source": [
    "# 随机过采样                        \n",
    "from imblearn.over_sampling import RandomOverSampler\n",
    "ros = RandomOverSampler(random_state=0)\n",
    "X_resampled, y_resampled = ros.fit_resample(X, y)\n",
    "\n",
    "# 随机过采样的数据分布              \n",
    "sorted(Counter(y_resampled).items())"
   ]
  },
  {
   "cell_type": "code",
   "execution_count": null,
   "id": "472ff3c9-7047-4076-8f3d-0bd549743cea",
   "metadata": {},
   "outputs": [],
   "source": [
    "# SMOTE, ADASYN过采样\n",
    "from imblearn.over_sampling import SMOTE, ADASYN\n",
    "X_resampled, y_resampled = SMOTE().fit_resample(X, y)\n",
    "print(sorted(Counter(y_resampled).items()))\n",
    "\n",
    "clf_smote = LinearSVC().fit(X_resampled, y_resampled)\n",
    "X_resampled, y_resampled = ADASYN().fit_resample(X, y)\n",
    "print(sorted(Counter(y_resampled).items()))"
   ]
  },
  {
   "cell_type": "code",
   "execution_count": null,
   "id": "55eaf875-2738-424c-a9c8-2a93648f6e54",
   "metadata": {},
   "outputs": [],
   "source": [
    "# Ensemble采样\n",
    "\n",
    "from sklearn.datasets import make_classification\n",
    "X, y = make_classification(n_samples=10000, n_features=2, n_informative=2,\n",
    "                           n_redundant=0, n_repeated=0, n_classes=3,\n",
    "                           n_clusters_per_class=1,\n",
    "                           weights=[0.01, 0.05, 0.94], class_sep=0.8,\n",
    "                           random_state=0)\n",
    "\n",
    "from sklearn.model_selection import train_test_split\n",
    "from sklearn.metrics import balanced_accuracy_score\n",
    "from sklearn.ensemble import BaggingClassifier\n",
    "from sklearn.tree import DecisionTreeClassifier"
   ]
  },
  {
   "cell_type": "code",
   "execution_count": null,
   "id": "7c396e2f-09c0-4a37-8e9e-9d177d06e9b2",
   "metadata": {},
   "outputs": [],
   "source": [
    "X_train, X_test, y_train, y_test = train_test_split(X, y, random_state=0)\n",
    "bc = BaggingClassifier(base_estimator=DecisionTreeClassifier(),\n",
    "                       random_state=0)\n",
    "bc.fit(X_train, y_train) \n",
    "\n",
    "y_pred = bc.predict(X_test)\n",
    "balanced_accuracy_score(y_test, y_pred)  \n",
    "\n",
    "from imblearn.ensemble import BalancedBaggingClassifier\n",
    "bbc = BalancedBaggingClassifier(base_estimator=DecisionTreeClassifier(),\n",
    "                                sampling_strategy='auto',\n",
    "                                replacement=False,\n",
    "                                random_state=0)\n",
    "bbc.fit(X_train, y_train) \n",
    "\n",
    "y_pred = bbc.predict(X_test)\n",
    "balanced_accuracy_score(y_test, y_pred)  \n",
    "\n",
    "from imblearn.ensemble import BalancedRandomForestClassifier\n",
    "brf = BalancedRandomForestClassifier(n_estimators=100, random_state=0)\n",
    "brf.fit(X_train, y_train) \n",
    "\n",
    "y_pred = brf.predict(X_test)\n",
    "balanced_accuracy_score(y_test, y_pred)  \n",
    "\n",
    "from imblearn.ensemble import RUSBoostClassifier\n",
    "rusboost = RUSBoostClassifier(n_estimators=200, algorithm='SAMME.R',\n",
    "                              random_state=0)\n",
    "rusboost.fit(X_train, y_train)  \n",
    "\n",
    "y_pred = rusboost.predict(X_test)\n",
    "balanced_accuracy_score(y_test, y_pred)  "
   ]
  },
  {
   "cell_type": "code",
   "execution_count": null,
   "id": "7de8370b-8062-4575-8edf-0d0edf684128",
   "metadata": {},
   "outputs": [],
   "source": [
    "# 定制采样器\n",
    "\n",
    "import numpy as np\n",
    "from imblearn import FunctionSampler\n",
    "from sklearn.datasets import make_classification\n",
    "X, y = make_classification(n_samples=5000, n_features=2, n_informative=2,\n",
    "                           n_redundant=0, n_repeated=0, n_classes=3,\n",
    "                           n_clusters_per_class=1,\n",
    "                           weights=[0.01, 0.05, 0.94],\n",
    "                           class_sep=0.8, random_state=0)\n",
    "\n",
    "def func(X, y):\n",
    "  return X[:10], y[:10]\n",
    "  \n",
    "sampler = FunctionSampler(func=func)\n",
    "X_res, y_res = sampler.fit_resample(X, y)\n",
    "np.all(X_res == X[:10])\n",
    "\n",
    "np.all(y_res == y[:10])"
   ]
  }
 ],
 "metadata": {
  "kernelspec": {
   "display_name": "Python 3 (ipykernel)",
   "language": "python",
   "name": "python3"
  },
  "language_info": {
   "codemirror_mode": {
    "name": "ipython",
    "version": 3
   },
   "file_extension": ".py",
   "mimetype": "text/x-python",
   "name": "python",
   "nbconvert_exporter": "python",
   "pygments_lexer": "ipython3",
   "version": "3.7.11"
  }
 },
 "nbformat": 4,
 "nbformat_minor": 5
}
