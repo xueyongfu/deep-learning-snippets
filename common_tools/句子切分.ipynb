{
 "cells": [
  {
   "cell_type": "markdown",
   "id": "157418d9-d384-40e9-960a-4d517044336d",
   "metadata": {},
   "source": [
    "## 基于ltp的分句   \n",
    "支持中英文的分句，一些场景可能不适用，如：“1. 构建。2. 运行”会将序号旁的点切分"
   ]
  },
  {
   "cell_type": "code",
   "execution_count": 8,
   "id": "72962d31-1c6a-40f5-817c-0f88862b16db",
   "metadata": {},
   "outputs": [
    {
     "data": {
      "text/plain": [
       "['汤..', '姆!', '生！', '病了。', '他.', '去。', '了？', '医?', '院。']"
      ]
     },
     "execution_count": 8,
     "metadata": {},
     "output_type": "execute_result"
    }
   ],
   "source": [
    "from ltp import StnSplit\n",
    "\n",
    "# 单字符串 句子切分\n",
    "StnSplit().split(\"汤..姆!生！病了。他.去。了？医?院。\")"
   ]
  },
  {
   "cell_type": "code",
   "execution_count": 10,
   "id": "e86eb888-542b-4bbb-97e9-742211a74789",
   "metadata": {},
   "outputs": [
    {
     "data": {
      "text/plain": [
       "['他叫汤#姆去%。', '拿外衣。', '汤姆生病了。', '他去了医院。']"
      ]
     },
     "execution_count": 10,
     "metadata": {},
     "output_type": "execute_result"
    }
   ],
   "source": [
    "# 多字符串 句子切分\n",
    "\n",
    "StnSplit().batch_split([\"他叫汤#姆去%。拿外衣。\", \"汤姆生病了。他去了医院。\"])"
   ]
  },
  {
   "cell_type": "markdown",
   "id": "ce9351bb-e2ec-4a23-a090-3b8259fa5799",
   "metadata": {},
   "source": [
    "## 自定义切分"
   ]
  },
  {
   "cell_type": "code",
   "execution_count": 1,
   "id": "48328e69-9cb3-423f-808a-d64083a14ce2",
   "metadata": {},
   "outputs": [],
   "source": [
    "import re"
   ]
  },
  {
   "cell_type": "code",
   "execution_count": 2,
   "id": "1f75e9d2-8ce9-4131-a451-b7f2a992af6e",
   "metadata": {},
   "outputs": [],
   "source": [
    "separators = ['!', '?', '.......', '！', '？', '。']\n",
    "def sent_split(text, final_split_token='$$$'):\n",
    "    res = re.split(r'([！|。|？|!|?|\\.{6}])', text)\n",
    "    if res[-1] == '':\n",
    "        res = res[:-1]\n",
    "    segs_tmp = []\n",
    "    for i, segment in enumerate(res):\n",
    "        segs_tmp.append(segment)\n",
    "        if segment in separators:\n",
    "            if i < len(res) -1 and res[i+1] not in separators:\n",
    "                segs_tmp.append(final_split_token)\n",
    "    return ''.join(segs_tmp).split(final_split_token)"
   ]
  },
  {
   "cell_type": "code",
   "execution_count": 3,
   "id": "e056cff5-9f5e-4189-bfe0-01be170a8726",
   "metadata": {},
   "outputs": [
    {
     "data": {
      "text/plain": [
       "['汤..姆!', '生！', '病了。', '他.去。', '了？', '医?', '院。']"
      ]
     },
     "execution_count": 3,
     "metadata": {},
     "output_type": "execute_result"
    }
   ],
   "source": [
    "content = '汤..姆!生！病了。他.去。了？医?院。'\n",
    "sent_split(content)"
   ]
  },
  {
   "cell_type": "code",
   "execution_count": null,
   "id": "1c8565a4-842d-4595-b07e-ede1f2a05cdd",
   "metadata": {},
   "outputs": [],
   "source": []
  }
 ],
 "metadata": {
  "kernelspec": {
   "display_name": "Python 3 (ipykernel)",
   "language": "python",
   "name": "python3"
  },
  "language_info": {
   "codemirror_mode": {
    "name": "ipython",
    "version": 3
   },
   "file_extension": ".py",
   "mimetype": "text/x-python",
   "name": "python",
   "nbconvert_exporter": "python",
   "pygments_lexer": "ipython3",
   "version": "3.7.11"
  }
 },
 "nbformat": 4,
 "nbformat_minor": 5
}
