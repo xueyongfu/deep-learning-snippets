{
 "cells": [
  {
   "cell_type": "code",
   "execution_count": 5,
   "id": "b25f5e27-5c9f-4a20-97e1-94140eb2627b",
   "metadata": {},
   "outputs": [
    {
     "name": "stderr",
     "output_type": "stream",
     "text": [
      "Processing 4: 100%|██████████████████████████████████████████████████████████████████████████████████████████████████████████████████████████████████████████████████████████████████████████| 5/5 [00:05<00:00,  1.01s/it]\n"
     ]
    }
   ],
   "source": [
    "import time\n",
    "from tqdm import tqdm\n",
    "\n",
    "# 数字刷新\n",
    "pbar = tqdm([\"a\", \"b\", \"c\", \"d\", \"e\"])\n",
    "for i, char in enumerate(pbar):\n",
    "    time.sleep(1)\n",
    "    pbar.set_description(\"Processing %d\" % i)"
   ]
  },
  {
   "cell_type": "code",
   "execution_count": 6,
   "id": "021b2ff8-bc13-44f6-b278-dd65d0ec6203",
   "metadata": {},
   "outputs": [
    {
     "name": "stderr",
     "output_type": "stream",
     "text": [
      "100%|████████████████████████████████████████████████████████████████████████████████████████████████████████████████████████████████████████████████████████████████████████████████████| 100/100 [00:10<00:00,  9.17it/s]\n"
     ]
    }
   ],
   "source": [
    "# 对于可迭代对象，无法获取迭代对象的长度，使用此方法\n",
    "\n",
    "from tqdm import tqdm \n",
    "import time\n",
    "\n",
    "#total参数设置进度条的总长度\n",
    "with tqdm(total=100) as pbar:\n",
    "    for i in range(100):\n",
    "        time.sleep(0.1)\n",
    "        pbar.update(1)  #每次更新进度条的长度\n"
   ]
  },
  {
   "cell_type": "code",
   "execution_count": null,
   "id": "9e860127-84f0-4c58-9e2e-645b88ef1880",
   "metadata": {},
   "outputs": [],
   "source": []
  }
 ],
 "metadata": {
  "kernelspec": {
   "display_name": "Python 3 (ipykernel)",
   "language": "python",
   "name": "python3"
  },
  "language_info": {
   "codemirror_mode": {
    "name": "ipython",
    "version": 3
   },
   "file_extension": ".py",
   "mimetype": "text/x-python",
   "name": "python",
   "nbconvert_exporter": "python",
   "pygments_lexer": "ipython3",
   "version": "3.7.11"
  }
 },
 "nbformat": 4,
 "nbformat_minor": 5
}
