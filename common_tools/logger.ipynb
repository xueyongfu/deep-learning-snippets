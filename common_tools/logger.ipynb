{
 "cells": [
  {
   "cell_type": "code",
   "execution_count": 1,
   "id": "59b19b4e-9182-4b6c-92c2-d1de270e83cc",
   "metadata": {},
   "outputs": [],
   "source": [
    "import re\n",
    "import datetime\n",
    "import logging\n",
    "from logging.handlers import TimedRotatingFileHandler"
   ]
  },
  {
   "cell_type": "code",
   "execution_count": 2,
   "id": "64f47b88-fc80-4d5c-85a1-2a26c18dd3a6",
   "metadata": {},
   "outputs": [],
   "source": [
    "logfile = 'logs/log'"
   ]
  },
  {
   "cell_type": "code",
   "execution_count": 4,
   "id": "2ecbbd4c-d4e3-4424-ada0-4b53d49e49c5",
   "metadata": {},
   "outputs": [],
   "source": [
    "app_logger = logging.getLogger()\n",
    "app_logger.setLevel(logging.INFO)\n",
    "formatter = logging.Formatter('%(levelname)s: %(asctime)s %(filename)s %(message)s')\n",
    "\n",
    "#============================================================================#\n",
    "# 设置日志的handler格式：                                                                                                                                                     #\n",
    "# * handler: 每 1(interval) 天(when) 重写1个文件,保留30(backupCount) 个旧文件                                                                  #\n",
    "# * when还可以是s/m/h, 大小写不区分                                                                                                                                    #\n",
    "#============================================================================#\n",
    "filehandler = TimedRotatingFileHandler(logfile, when='d', interval=1, backupCount=30) \n",
    "filehandler.suffix = r\"%Y-%m-%d_%H-%M-%S.log\" #设置历史文件后缀\n",
    "filehandler.extMatch = re.compile(r\"^\\d{4}-\\d{2}-\\d{2}_\\d{2}-\\d{2}-\\d{2}.log$\")\n",
    "filehandler.setFormatter(formatter)\n",
    "\n",
    "app_logger.addHandler(filehandler)\n",
    "# 先输出hyper_params到日志中\n",
    "app_logger.info('logger testing !')"
   ]
  },
  {
   "cell_type": "code",
   "execution_count": null,
   "id": "cda53475-d2bc-4cef-957d-3746266c7079",
   "metadata": {},
   "outputs": [],
   "source": []
  }
 ],
 "metadata": {
  "kernelspec": {
   "display_name": "Python 3 (ipykernel)",
   "language": "python",
   "name": "python3"
  },
  "language_info": {
   "codemirror_mode": {
    "name": "ipython",
    "version": 3
   },
   "file_extension": ".py",
   "mimetype": "text/x-python",
   "name": "python",
   "nbconvert_exporter": "python",
   "pygments_lexer": "ipython3",
   "version": "3.7.11"
  }
 },
 "nbformat": 4,
 "nbformat_minor": 5
}
