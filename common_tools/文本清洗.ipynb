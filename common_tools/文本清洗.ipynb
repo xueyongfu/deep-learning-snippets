{
 "cells": [
  {
   "cell_type": "code",
   "execution_count": 15,
   "id": "0965fff6-f4d6-4876-9a4a-bb90a95b1f8e",
   "metadata": {},
   "outputs": [],
   "source": [
    "# bert-like tokenizer情形下的数据清洗\n",
    "\n",
    "import unicodedata\n",
    "\n",
    "def _is_control(char):\n",
    "    \"\"\"Checks whether `char` is a control character.\"\"\"\n",
    "    # These are technically control characters but we count them as whitespace\n",
    "    # characters.\n",
    "    if char == \"\\t\" or char == \"\\n\" or char == \"\\r\":\n",
    "        return False\n",
    "    cat = unicodedata.category(char)\n",
    "    if cat.startswith(\"C\"):\n",
    "        return True\n",
    "    return False\n",
    "\n",
    "def _is_whitespace(char):\n",
    "    \"\"\"Checks whether `char` is a whitespace character.\"\"\"\n",
    "    # \\t, \\n, and \\r are technically control characters but we treat them\n",
    "    # as whitespace since they are generally considered as such.\n",
    "    if char == \" \" or char == \"\\t\" or char == \"\\n\" or char == \"\\r\":\n",
    "        return True\n",
    "    cat = unicodedata.category(char)\n",
    "    if cat == \"Zs\":\n",
    "        return True\n",
    "    return False\n",
    "\n",
    "def clean_text(text):\n",
    "    \"\"\"Performs invalid character removal and whitespace cleanup on text.\"\"\"\n",
    "    output = []\n",
    "    special_token_posid = []\n",
    "    special_tokens = []\n",
    "    for i, char in enumerate(text):\n",
    "        cp = ord(char)\n",
    "        if cp == 0 or cp == 0xFFFD or _is_control(char):\n",
    "            # print(cp)\n",
    "            special_token_posid.append(i)\n",
    "            special_tokens.append(char)\n",
    "            continue\n",
    "        if _is_whitespace(char):\n",
    "            output.append(\" \")\n",
    "        else:\n",
    "            output.append(char)\n",
    "    print('special tokens: ' + '&'.join(special_tokens))\n",
    "    return \"\".join(output), special_token_posid"
   ]
  },
  {
   "cell_type": "code",
   "execution_count": 16,
   "id": "991c0b8b-3fce-465c-b9fb-0cd9d6ba11b8",
   "metadata": {},
   "outputs": [
    {
     "name": "stdout",
     "output_type": "stream",
     "text": [
      "special tokens: �&�\n"
     ]
    }
   ],
   "source": [
    "text = '有��多好朋友们'\n",
    "processed_text, special_token_ids = clean_text(text)"
   ]
  },
  {
   "cell_type": "code",
   "execution_count": 17,
   "id": "9e36c424-0542-4c0f-83f5-35ae67f9c523",
   "metadata": {},
   "outputs": [
    {
     "data": {
      "text/plain": [
       "[1, 2]"
      ]
     },
     "execution_count": 17,
     "metadata": {},
     "output_type": "execute_result"
    }
   ],
   "source": [
    "special_token_ids"
   ]
  },
  {
   "cell_type": "code",
   "execution_count": null,
   "id": "b09a247e-c773-4ae1-8abf-a93030ffce9e",
   "metadata": {},
   "outputs": [],
   "source": []
  }
 ],
 "metadata": {
  "kernelspec": {
   "display_name": "Python 3 (ipykernel)",
   "language": "python",
   "name": "python3"
  },
  "language_info": {
   "codemirror_mode": {
    "name": "ipython",
    "version": 3
   },
   "file_extension": ".py",
   "mimetype": "text/x-python",
   "name": "python",
   "nbconvert_exporter": "python",
   "pygments_lexer": "ipython3",
   "version": "3.7.11"
  }
 },
 "nbformat": 4,
 "nbformat_minor": 5
}
