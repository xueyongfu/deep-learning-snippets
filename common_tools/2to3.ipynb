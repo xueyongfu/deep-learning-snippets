{
 "cells": [
  {
   "cell_type": "code",
   "execution_count": 24,
   "id": "83e1db86-afa8-4981-8182-52ddb939c9f8",
   "metadata": {},
   "outputs": [],
   "source": [
    "import os\n",
    "\n",
    "interpreter_path = r'D:\\softwares\\miniconda\\envs\\torch1.8\\python.exe'\n",
    "tool_path = r'D:\\softwares\\miniconda\\envs\\torch1.8\\Tools\\scripts\\2to3.py'"
   ]
  },
  {
   "cell_type": "code",
   "execution_count": 25,
   "id": "2d76e890-05d7-4a88-b043-bcb0ec7646f9",
   "metadata": {},
   "outputs": [],
   "source": [
    "convert_dir = r'D:\\Codes\\Text-correction\\datasets\\SIGHAN\\sighan_raw'"
   ]
  },
  {
   "cell_type": "code",
   "execution_count": 26,
   "id": "5924799c-e987-4079-9003-174ef0d51ac7",
   "metadata": {},
   "outputs": [
    {
     "name": "stdout",
     "output_type": "stream",
     "text": [
      "convert file: D:\\Codes\\Text-correction\\datasets\\SIGHAN\\sighan_raw\\a.py\n",
      "convert file: D:\\Codes\\Text-correction\\datasets\\SIGHAN\\sighan_raw\\file_io.py\n",
      "convert file: D:\\Codes\\Text-correction\\datasets\\SIGHAN\\sighan_raw\\generate_pair_data.py\n"
     ]
    }
   ],
   "source": [
    "for root, dirs, files in os.walk(convert_dir):\n",
    "    for file in files:\n",
    "        if file.endswith('.py'):\n",
    "            print(f'convert file: {os.path.join(root, file)}')\n",
    "            os.system(f'{interpreter_path} {tool_path} -w {os.path.join(root, file)}')"
   ]
  },
  {
   "cell_type": "code",
   "execution_count": null,
   "id": "7ea542b8-8727-42ee-90b0-1ad4b9a67530",
   "metadata": {},
   "outputs": [],
   "source": []
  }
 ],
 "metadata": {
  "kernelspec": {
   "display_name": "Python 3 (ipykernel)",
   "language": "python",
   "name": "python3"
  },
  "language_info": {
   "codemirror_mode": {
    "name": "ipython",
    "version": 3
   },
   "file_extension": ".py",
   "mimetype": "text/x-python",
   "name": "python",
   "nbconvert_exporter": "python",
   "pygments_lexer": "ipython3",
   "version": "3.7.11"
  }
 },
 "nbformat": 4,
 "nbformat_minor": 5
}
